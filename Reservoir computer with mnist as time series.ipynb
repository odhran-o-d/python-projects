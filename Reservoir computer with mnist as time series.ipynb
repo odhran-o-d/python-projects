{
 "cells": [
  {
   "cell_type": "code",
   "execution_count": 1,
   "metadata": {},
   "outputs": [
    {
     "name": "stderr",
     "output_type": "stream",
     "text": [
      "C:\\Users\\odhra\\Anaconda3\\lib\\site-packages\\h5py\\__init__.py:36: FutureWarning: Conversion of the second argument of issubdtype from `float` to `np.floating` is deprecated. In future, it will be treated as `np.float64 == np.dtype(float).type`.\n",
      "  from ._conv import register_converters as _register_converters\n"
     ]
    }
   ],
   "source": [
    "import tensorflow as tf\n",
    "from tensorflow import keras\n",
    "import numpy as np\n",
    "import matplotlib.pyplot as plt\n",
    "from brian2 import *  "
   ]
  },
  {
   "cell_type": "code",
   "execution_count": 2,
   "metadata": {},
   "outputs": [
    {
     "name": "stdout",
     "output_type": "stream",
     "text": [
      "(60000, 784)\n",
      "(120000, 784)\n"
     ]
    }
   ],
   "source": [
    "mnist = keras.datasets.mnist\n",
    "\n",
    "(train_images, train_labels), (test_images, test_labels) = mnist.load_data() \n",
    "\n",
    "train_im = train_images.reshape(60000,784)\n",
    "\n",
    "print(train_im.shape)\n",
    "\n",
    "td = zeros((120000,784))\n",
    "\n",
    "for x in range(0,60000):\n",
    "    td[2*x]=train_im[x]\n",
    "    \n",
    "\n",
    "timed_data = td\n",
    "\n",
    "print(timed_data.shape)"
   ]
  },
  {
   "cell_type": "code",
   "execution_count": 128,
   "metadata": {},
   "outputs": [
    {
     "name": "stdout",
     "output_type": "stream",
     "text": [
      "(784, 400)\n"
     ]
    }
   ],
   "source": [
    "start_scope()\n",
    "\n",
    "taum = 10*ms\n",
    "taupre = 20*ms\n",
    "taupost = taupre\n",
    "Ee = 0*mV\n",
    "vt = -54*mV\n",
    "vr = -60*mV\n",
    "El = -74*mV\n",
    "taue = 5*ms\n",
    "F = 15*Hz\n",
    "gmax = .01\n",
    "dApre = .01\n",
    "dApost = -dApre * taupre / taupost * 1.05\n",
    "dApost *= gmax\n",
    "dApre *= gmax\n",
    "\n",
    "eqs_neurons = '''\n",
    "dv/dt = (ge * (Ee-vr) + El - v) / taum : volt\n",
    "dge/dt = -ge / taue : 1\n",
    "'''\n",
    "\n",
    "\n",
    "ta = TimedArray((timed_data)*Hz, dt=5*ms)\n",
    "\n",
    "\n",
    "\n",
    "\n",
    "\n",
    "Poisson_layer = PoissonGroup(784,rates = 'ta(t, i)')\n",
    "layer_V1 = NeuronGroup(784, eqs_neurons, threshold='v>vt', reset='v = vr', refractory=2*ms, method='linear')\n",
    "layer_V2 = NeuronGroup(784, eqs_neurons, threshold='v>vt', reset='v = vr', refractory=2*ms, method='linear')\n",
    "\n",
    "\n",
    "\n",
    "\n",
    "\n",
    "\n",
    "#poisson to layer 1\n",
    "P_to_V1 = Synapses(Poisson_layer, layer_V1,\n",
    "             '''w : 1\n",
    "                dApre/dt = -Apre / taupre : 1 (event-driven)\n",
    "                dApost/dt = -Apost / taupost : 1 (event-driven)''',\n",
    "             on_pre='''ge += w\n",
    "                    Apre += dApre\n",
    "                    w = clip(w + Apost, 0, gmax)''',\n",
    "             on_post='''Apost += dApost\n",
    "                     w = clip(w + Apre, 0, gmax)''',\n",
    "             )\n",
    "P_to_V1.connect()\n",
    "P_to_V1.w = 'rand() * gmax'\n",
    "\n",
    "\n",
    "\n",
    "\n",
    "#layer 1 to layer 2\n",
    "V1_to_V2 = Synapses(layer_V1, layer_V2,\n",
    "             '''w : 1\n",
    "                dApre/dt = -Apre / taupre : 1 (event-driven)\n",
    "                dApost/dt = -Apost / taupost : 1 (event-driven)''',\n",
    "             on_pre='''ge += w\n",
    "                    Apre += dApre\n",
    "                    w = clip(w + Apost, 0, gmax)''',\n",
    "             on_post='''Apost += dApost\n",
    "                     w = clip(w + Apre, 0, gmax)''',\n",
    "             )\n",
    "V1_to_V2.connect(condition='i!=j', p=0.5)\n",
    "V1_to_V2.w = 'gmax'\n",
    "\n",
    "\n",
    "\n",
    "spikemon_P = SpikeMonitor(Poisson_layer)\n",
    "spikemon_V1 = SpikeMonitor(layer_V1)\n",
    "spikemon_V2 = SpikeMonitor(layer_V2)\n",
    "\n",
    "\n",
    "\n",
    "run(400*ms)\n",
    "\n",
    "trains = spikemon_V2.spike_trains()\n",
    "\n",
    "trains_pre_array = np.array(list(trains.values()))*1000\n",
    "\n",
    "spikematrix = zeros((784,400)) # check you have this bit the right way around! \n",
    "\n",
    "\n",
    "for x in range(0,784):\n",
    "    results = list(map(int, trains_pre_array[x]))\n",
    "    spikematrix[x,results] = 1\n",
    "\n",
    "print(spikematrix.shape)\n",
    "\n",
    "\n",
    "\n"
   ]
  },
  {
   "cell_type": "code",
   "execution_count": 129,
   "metadata": {},
   "outputs": [
    {
     "data": {
      "image/png": "[encoded data removed]",
      "text/plain": [
       "<Figure size 432x288 with 2 Axes>"
      ]
     },
     "metadata": {},
     "output_type": "display_data"
    }
   ],
   "source": [
    "plt.figure()\n",
    "plt.imshow(spikematrix)\n",
    "plt.colorbar()\n",
    "plt.grid(False)"
   ]
  },
  {
   "cell_type": "code",
   "execution_count": null,
   "metadata": {},
   "outputs": [],
   "source": []
  }
 ],
 "metadata": {
  "kernelspec": {
   "display_name": "Python 3",
   "language": "python",
   "name": "python3"
  },
  "language_info": {
   "codemirror_mode": {
    "name": "ipython",
    "version": 3
   },
   "file_extension": ".py",
   "mimetype": "text/x-python",
   "name": "python",
   "nbconvert_exporter": "python",
   "pygments_lexer": "ipython3",
   "version": "3.6.5"
  }
 },
 "nbformat": 4,
 "nbformat_minor": 2
}
