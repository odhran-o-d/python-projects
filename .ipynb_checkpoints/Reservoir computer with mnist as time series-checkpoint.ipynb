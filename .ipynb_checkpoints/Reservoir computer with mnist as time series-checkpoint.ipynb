{
 "cells": [
  {
   "cell_type": "code",
   "execution_count": 1,
   "metadata": {},
   "outputs": [
    {
     "name": "stderr",
     "output_type": "stream",
     "text": [
      "C:\\Users\\odhra\\Anaconda3\\lib\\site-packages\\h5py\\__init__.py:36: FutureWarning: Conversion of the second argument of issubdtype from `float` to `np.floating` is deprecated. In future, it will be treated as `np.float64 == np.dtype(float).type`.\n",
      "  from ._conv import register_converters as _register_converters\n"
     ]
    }
   ],
   "source": [
    "import tensorflow as tf\n",
    "from tensorflow import keras\n",
    "import numpy as np\n",
    "import matplotlib.pyplot as plt\n",
    "from brian2 import *  "
   ]
  },
  {
   "cell_type": "code",
   "execution_count": 28,
   "metadata": {},
   "outputs": [
    {
     "name": "stdout",
     "output_type": "stream",
     "text": [
      "(60000, 28, 28)\n",
      "(60000, 784)\n",
      "(120000, 784)\n"
     ]
    }
   ],
   "source": [
    "mnist = keras.datasets.mnist\n",
    "\n",
    "(train_images, train_labels), (test_images, test_labels) = mnist.load_data() \n",
    "\n",
    "print(train_images.shape)\n",
    "\n",
    "train_im = train_images.reshape(60000,784)\n",
    "\n",
    "print(train_im.shape)\n",
    "\n",
    "td = zeros((120000,784))\n",
    "\n",
    "\n",
    "#maybe make this twice as big for a training and testing phase?\n",
    "\n",
    "for x in range(0,60000):\n",
    "    td[2*x]=train_im[x]\n",
    "    \n",
    "\n",
    "timed_data = td\n",
    "\n",
    "print(timed_data.shape)"
   ]
  },
  {
   "cell_type": "code",
   "execution_count": 76,
   "metadata": {},
   "outputs": [],
   "source": [
    "start_scope()\n",
    "\n",
    "taum = 10*ms\n",
    "taupre = 20*ms\n",
    "taupost = taupre\n",
    "Ee = 0*mV\n",
    "vt = -54*mV\n",
    "vr = -60*mV\n",
    "El = -74*mV\n",
    "taue = 5*ms\n",
    "F = 15*Hz\n",
    "gmax = .01\n",
    "dApre = .01\n",
    "dApost = -dApre * taupre / taupost * 1.05\n",
    "dApost *= gmax\n",
    "dApre *= gmax\n",
    "\n",
    "\n",
    "\n",
    "eqs_neurons = '''\n",
    "dv/dt = (ge * (Ee-vr) + El - v) / taum : volt\n",
    "dge/dt = -ge / taue : 1\n",
    "'''\n",
    "\n",
    "\n",
    "ta = TimedArray((timed_data)*Hz, 10*ms)\n",
    "\n",
    "#exposure time is 20 ms.\n",
    "\n",
    "\n",
    "\n",
    "Poisson_layer = PoissonGroup(784,rates = 'ta(t, i)')\n",
    "layer_V1 = NeuronGroup(784, eqs_neurons, threshold='v>vt', reset='v = vr', refractory=2*ms, method='linear')\n",
    "layer_V2 = NeuronGroup(784, eqs_neurons, threshold='v>vt', reset='v = vr', refractory=2*ms, method='linear')\n",
    "\n",
    "\n",
    "#poisson to layer 1\n",
    "P_to_V1 = Synapses(Poisson_layer, layer_V1,\n",
    "             '''w : 1\n",
    "                dApre/dt = -Apre / taupre : 1 (event-driven)\n",
    "                dApost/dt = -Apost / taupost : 1 (event-driven)''',\n",
    "             on_pre='''ge += w\n",
    "                    Apre += dApre\n",
    "                    w = clip(w + Apost, 0, gmax)''',\n",
    "             on_post='''Apost += dApost\n",
    "                     w = clip(w + Apre, 0, gmax)''',\n",
    "             )\n",
    "P_to_V1.connect()\n",
    "P_to_V1.w = 'rand() * gmax'\n",
    "\n",
    "\n",
    "\n",
    "#layer 1 to layer 2\n",
    "V1_to_V2 = Synapses(layer_V1, layer_V2,\n",
    "             '''w : 1\n",
    "                dApre/dt = -Apre / taupre : 1 (event-driven)\n",
    "                dApost/dt = -Apost / taupost : 1 (event-driven)''',\n",
    "             on_pre='''ge += w\n",
    "                    Apre += dApre\n",
    "                    w = clip(w + Apost, 0, gmax)''',\n",
    "             on_post='''Apost += dApost\n",
    "                     w = clip(w + Apre, 0, gmax)''',\n",
    "             )\n",
    "V1_to_V2.connect(condition='i!=j', p=0.5)\n",
    "V1_to_V2.w = 'rand() * gmax'\n",
    "\n",
    "\n",
    "# First snapshot at t=0\n",
    "store('initialized')\n",
    "\n",
    "# Run 3 complete trials\n",
    "for trial in range(1):# Simulate training phase\n",
    "    restore('initialized')\n",
    "    P_to_V1.w = True\n",
    "    V1_to_V2.w = True\n",
    "    run(400*ms)\n",
    "    \n",
    "    store('after_learning')\n",
    "   \n",
    "    for test_number in range(1):\n",
    "        restore('after_learning')\n",
    "        P_to_V1.w = False\n",
    "        V1_to_V2.w = False\n",
    "        \n",
    "        spikemon_V2 = SpikeMonitor(layer_V2)\n",
    "        run(400*ms)\n",
    "\n",
    "\n",
    "#spikemon_P_naieve = SpikeMonitor(Poisson_layer)\n",
    "#spikemon_V1_naieve = SpikeMonitor(layer_V1)\n",
    "#spikemon_V2_naieve = SpikeMonitor(layer_V2)\n",
    "\n",
    "#don't monitor stuff until the second time round!\n",
    "\n",
    "\n"
   ]
  },
  {
   "cell_type": "markdown",
   "metadata": {},
   "source": [
    "# Run the network for initial exposure to all examples, then run the network for training examples. with STP turned off "
   ]
  },
  {
   "cell_type": "markdown",
   "metadata": {},
   "source": [
    "There is code to normalise synaptic weights on page 138 of the brian documentatio"
   ]
  },
  {
   "cell_type": "code",
   "execution_count": 43,
   "metadata": {},
   "outputs": [],
   "source": [
    "run(400*ms)\n",
    "\n",
    "\n",
    "store('exposed_net')\n",
    "\n",
    "\n",
    "restore('exposed_net')\n",
    "spikemon_V2 = SpikeMonitor(layer_V2)\n",
    "\n",
    "run(400*ms)\n",
    "    \n",
    "#P_to_V1.w = False\n",
    "#V1_to_V2.w = False"
   ]
  },
  {
   "cell_type": "code",
   "execution_count": 77,
   "metadata": {},
   "outputs": [
    {
     "name": "stdout",
     "output_type": "stream",
     "text": [
      "{0: array([], dtype=float64) * second, 1: array([], dtype=float64) * second, 2: array([0.4002]) * second, 3: array([], dtype=float64) * second, 4: array([], dtype=float64) * second, 5: array([0.4002]) * second, 6: array([], dtype=float64) * second, 7: array([], dtype=float64) * second, 8: array([], dtype=float64) * second, 9: array([], dtype=float64) * second, 10: array([], dtype=float64) * second, 11: array([0.4003]) * second, 12: array([], dtype=float64) * second, 13: array([], dtype=float64) * second, 14: array([], dtype=float64) * second, 15: array([], dtype=float64) * second, 16: array([], dtype=float64) * second, 17: array([], dtype=float64) * second, 18: array([], dtype=float64) * second, 19: array([0.4006]) * second, 20: array([], dtype=float64) * second, 21: array([], dtype=float64) * second, 22: array([], dtype=float64) * second, 23: array([], dtype=float64) * second, 24: array([], dtype=float64) * second, 25: array([], dtype=float64) * second, 26: array([], dtype=float64) * second, 27: array([0.4006]) * second, 28: array([], dtype=float64) * second, 29: array([], dtype=float64) * second, 30: array([0.4006]) * second, 31: array([], dtype=float64) * second, 32: array([], dtype=float64) * second, 33: array([], dtype=float64) * second, 34: array([], dtype=float64) * second, 35: array([], dtype=float64) * second, 36: array([], dtype=float64) * second, 37: array([], dtype=float64) * second, 38: array([0.4004]) * second, 39: array([], dtype=float64) * second, 40: array([], dtype=float64) * second, 41: array([0.4]) * second, 42: array([0.4006]) * second, 43: array([0.4]) * second, 44: array([], dtype=float64) * second, 45: array([], dtype=float64) * second, 46: array([], dtype=float64) * second, 47: array([], dtype=float64) * second, 48: array([], dtype=float64) * second, 49: array([], dtype=float64) * second, 50: array([], dtype=float64) * second, 51: array([], dtype=float64) * second, 52: array([], dtype=float64) * second, 53: array([], dtype=float64) * second, 54: array([], dtype=float64) * second, 55: array([0.4]) * second, 56: array([], dtype=float64) * second, 57: array([], dtype=float64) * second, 58: array([], dtype=float64) * second, 59: array([], dtype=float64) * second, 60: array([], dtype=float64) * second, 61: array([], dtype=float64) * second, 62: array([], dtype=float64) * second, 63: array([], dtype=float64) * second, 64: array([], dtype=float64) * second, 65: array([], dtype=float64) * second, 66: array([], dtype=float64) * second, 67: array([], dtype=float64) * second, 68: array([], dtype=float64) * second, 69: array([], dtype=float64) * second, 70: array([], dtype=float64) * second, 71: array([], dtype=float64) * second, 72: array([], dtype=float64) * second, 73: array([], dtype=float64) * second, 74: array([], dtype=float64) * second, 75: array([0.4002]) * second, 76: array([], dtype=float64) * second, 77: array([0.4]) * second, 78: array([], dtype=float64) * second, 79: array([], dtype=float64) * second, 80: array([], dtype=float64) * second, 81: array([], dtype=float64) * second, 82: array([], dtype=float64) * second, 83: array([], dtype=float64) * second, 84: array([], dtype=float64) * second, 85: array([], dtype=float64) * second, 86: array([], dtype=float64) * second, 87: array([], dtype=float64) * second, 88: array([], dtype=float64) * second, 89: array([], dtype=float64) * second, 90: array([], dtype=float64) * second, 91: array([], dtype=float64) * second, 92: array([], dtype=float64) * second, 93: array([], dtype=float64) * second, 94: array([], dtype=float64) * second, 95: array([0.4002]) * second, 96: array([], dtype=float64) * second, 97: array([], dtype=float64) * second, 98: array([], dtype=float64) * second, 99: array([0.4004]) * second, 100: array([], dtype=float64) * second, 101: array([], dtype=float64) * second, 102: array([], dtype=float64) * second, 103: array([], dtype=float64) * second, 104: array([], dtype=float64) * second, 105: array([], dtype=float64) * second, 106: array([0.4]) * second, 107: array([], dtype=float64) * second, 108: array([], dtype=float64) * second, 109: array([], dtype=float64) * second, 110: array([], dtype=float64) * second, 111: array([], dtype=float64) * second, 112: array([], dtype=float64) * second, 113: array([], dtype=float64) * second, 114: array([], dtype=float64) * second, 115: array([0.4002]) * second, 116: array([], dtype=float64) * second, 117: array([], dtype=float64) * second, 118: array([], dtype=float64) * second, 119: array([], dtype=float64) * second, 120: array([], dtype=float64) * second, 121: array([0.4]) * second, 122: array([], dtype=float64) * second, 123: array([], dtype=float64) * second, 124: array([], dtype=float64) * second, 125: array([], dtype=float64) * second, 126: array([], dtype=float64) * second, 127: array([], dtype=float64) * second, 128: array([], dtype=float64) * second, 129: array([], dtype=float64) * second, 130: array([], dtype=float64) * second, 131: array([], dtype=float64) * second, 132: array([], dtype=float64) * second, 133: array([], dtype=float64) * second, 134: array([], dtype=float64) * second, 135: array([], dtype=float64) * second, 136: array([0.4003]) * second, 137: array([], dtype=float64) * second, 138: array([], dtype=float64) * second, 139: array([0.4003]) * second, 140: array([], dtype=float64) * second, 141: array([], dtype=float64) * second, 142: array([0.4]) * second, 143: array([], dtype=float64) * second, 144: array([], dtype=float64) * second, 145: array([], dtype=float64) * second, 146: array([0.4006]) * second, 147: array([], dtype=float64) * second, 148: array([], dtype=float64) * second, 149: array([], dtype=float64) * second, 150: array([], dtype=float64) * second, 151: array([], dtype=float64) * second, 152: array([], dtype=float64) * second, 153: array([], dtype=float64) * second, 154: array([], dtype=float64) * second, 155: array([], dtype=float64) * second, 156: array([], dtype=float64) * second, 157: array([], dtype=float64) * second, 158: array([], dtype=float64) * second, 159: array([], dtype=float64) * second, 160: array([], dtype=float64) * second, 161: array([], dtype=float64) * second, 162: array([], dtype=float64) * second, 163: array([], dtype=float64) * second, 164: array([], dtype=float64) * second, 165: array([], dtype=float64) * second, 166: array([], dtype=float64) * second, 167: array([], dtype=float64) * second, 168: array([0.4002]) * second, 169: array([], dtype=float64) * second, 170: array([0.4003]) * second, 171: array([], dtype=float64) * second, 172: array([], dtype=float64) * second, 173: array([], dtype=float64) * second, 174: array([0.4003]) * second, 175: array([], dtype=float64) * second, 176: array([], dtype=float64) * second, 177: array([], dtype=float64) * second, 178: array([], dtype=float64) * second, 179: array([], dtype=float64) * second, 180: array([], dtype=float64) * second, 181: array([0.4]) * second, 182: array([0.4]) * second, 183: array([], dtype=float64) * second, 184: array([0.4006]) * second, 185: array([], dtype=float64) * second, 186: array([], dtype=float64) * second, 187: array([], dtype=float64) * second, 188: array([], dtype=float64) * second, 189: array([], dtype=float64) * second, 190: array([], dtype=float64) * second, 191: array([], dtype=float64) * second, 192: array([0.4006]) * second, 193: array([], dtype=float64) * second, 194: array([], dtype=float64) * second, 195: array([], dtype=float64) * second, 196: array([], dtype=float64) * second, 197: array([0.4001]) * second, 198: array([], dtype=float64) * second, 199: array([], dtype=float64) * second, 200: array([], dtype=float64) * second, 201: array([], dtype=float64) * second, 202: array([], dtype=float64) * second, 203: array([], dtype=float64) * second, 204: array([], dtype=float64) * second, 205: array([], dtype=float64) * second, 206: array([0.4]) * second, 207: array([], dtype=float64) * second, 208: array([], dtype=float64) * second, 209: array([0.4001]) * second, 210: array([], dtype=float64) * second, 211: array([], dtype=float64) * second, 212: array([0.4003]) * second, 213: array([], dtype=float64) * second, 214: array([0.4001]) * second, 215: array([], dtype=float64) * second, 216: array([], dtype=float64) * second, 217: array([], dtype=float64) * second, 218: array([], dtype=float64) * second, 219: array([], dtype=float64) * second, 220: array([], dtype=float64) * second, 221: array([], dtype=float64) * second, 222: array([0.4]) * second, 223: array([], dtype=float64) * second, 224: array([], dtype=float64) * second, 225: array([], dtype=float64) * second, 226: array([], dtype=float64) * second, 227: array([], dtype=float64) * second, 228: array([], dtype=float64) * second, 229: array([], dtype=float64) * second, 230: array([], dtype=float64) * second, 231: array([0.4002]) * second, 232: array([], dtype=float64) * second, 233: array([], dtype=float64) * second, 234: array([], dtype=float64) * second, 235: array([], dtype=float64) * second, 236: array([], dtype=float64) * second, 237: array([0.4003]) * second, 238: array([0.4006]) * second, 239: array([], dtype=float64) * second, 240: array([], dtype=float64) * second, 241: array([0.4006]) * second, 242: array([], dtype=float64) * second, 243: array([0.4]) * second, 244: array([], dtype=float64) * second, 245: array([], dtype=float64) * second, 246: array([], dtype=float64) * second, 247: array([], dtype=float64) * second, 248: array([], dtype=float64) * second, 249: array([0.4004]) * second, 250: array([], dtype=float64) * second, 251: array([], dtype=float64) * second, 252: array([], dtype=float64) * second, 253: array([], dtype=float64) * second, 254: array([], dtype=float64) * second, 255: array([], dtype=float64) * second, 256: array([], dtype=float64) * second, 257: array([], dtype=float64) * second, 258: array([], dtype=float64) * second, 259: array([], dtype=float64) * second, 260: array([0.4]) * second, 261: array([], dtype=float64) * second, 262: array([], dtype=float64) * second, 263: array([], dtype=float64) * second, 264: array([], dtype=float64) * second, 265: array([0.4004]) * second, 266: array([], dtype=float64) * second, 267: array([], dtype=float64) * second, 268: array([], dtype=float64) * second, 269: array([], dtype=float64) * second, 270: array([0.4001]) * second, 271: array([], dtype=float64) * second, 272: array([], dtype=float64) * second, 273: array([], dtype=float64) * second, 274: array([], dtype=float64) * second, 275: array([], dtype=float64) * second, 276: array([], dtype=float64) * second, 277: array([], dtype=float64) * second, 278: array([], dtype=float64) * second, 279: array([0.4001]) * second, 280: array([], dtype=float64) * second, 281: array([], dtype=float64) * second, 282: array([], dtype=float64) * second, 283: array([0.4003]) * second, 284: array([], dtype=float64) * second, 285: array([], dtype=float64) * second, 286: array([], dtype=float64) * second, 287: array([], dtype=float64) * second, 288: array([], dtype=float64) * second, 289: array([], dtype=float64) * second, 290: array([0.4003]) * second, 291: array([], dtype=float64) * second, 292: array([], dtype=float64) * second, 293: array([], dtype=float64) * second, 294: array([], dtype=float64) * second, 295: array([0.4006]) * second, 296: array([], dtype=float64) * second, 297: array([], dtype=float64) * second, 298: array([], dtype=float64) * second, 299: array([], dtype=float64) * second, 300: array([], dtype=float64) * second, 301: array([], dtype=float64) * second, 302: array([], dtype=float64) * second, 303: array([], dtype=float64) * second, 304: array([], dtype=float64) * second, 305: array([], dtype=float64) * second, 306: array([], dtype=float64) * second, 307: array([], dtype=float64) * second, 308: array([], dtype=float64) * second, 309: array([0.4004]) * second, 310: array([], dtype=float64) * second, 311: array([], dtype=float64) * second, 312: array([], dtype=float64) * second, 313: array([], dtype=float64) * second, 314: array([], dtype=float64) * second, 315: array([], dtype=float64) * second, 316: array([0.4003]) * second, 317: array([], dtype=float64) * second, 318: array([0.4004]) * second, 319: array([], dtype=float64) * second, 320: array([], dtype=float64) * second, 321: array([], dtype=float64) * second, 322: array([], dtype=float64) * second, 323: array([], dtype=float64) * second, 324: array([], dtype=float64) * second, 325: array([], dtype=float64) * second, 326: array([], dtype=float64) * second, 327: array([0.4002]) * second, 328: array([], dtype=float64) * second, 329: array([], dtype=float64) * second, 330: array([], dtype=float64) * second, 331: array([], dtype=float64) * second, 332: array([], dtype=float64) * second, 333: array([0.4002]) * second, 334: array([], dtype=float64) * second, 335: array([], dtype=float64) * second, 336: array([0.4]) * second, 337: array([], dtype=float64) * second, 338: array([], dtype=float64) * second, 339: array([0.4003]) * second, 340: array([], dtype=float64) * second, 341: array([], dtype=float64) * second, 342: array([], dtype=float64) * second, 343: array([], dtype=float64) * second, 344: array([], dtype=float64) * second, 345: array([0.4]) * second, 346: array([0.4002]) * second, 347: array([0.4]) * second, 348: array([], dtype=float64) * second, 349: array([], dtype=float64) * second, 350: array([], dtype=float64) * second, 351: array([], dtype=float64) * second, 352: array([], dtype=float64) * second, 353: array([], dtype=float64) * second, 354: array([], dtype=float64) * second, 355: array([], dtype=float64) * second, 356: array([], dtype=float64) * second, 357: array([0.4002]) * second, 358: array([], dtype=float64) * second, 359: array([], dtype=float64) * second, 360: array([], dtype=float64) * second, 361: array([0.4002]) * second, 362: array([], dtype=float64) * second, 363: array([0.4006]) * second, 364: array([], dtype=float64) * second, 365: array([], dtype=float64) * second, 366: array([], dtype=float64) * second, 367: array([0.4002]) * second, 368: array([], dtype=float64) * second, 369: array([], dtype=float64) * second, 370: array([], dtype=float64) * second, 371: array([], dtype=float64) * second, 372: array([], dtype=float64) * second, 373: array([], dtype=float64) * second, 374: array([], dtype=float64) * second, 375: array([], dtype=float64) * second, 376: array([], dtype=float64) * second, 377: array([], dtype=float64) * second, 378: array([], dtype=float64) * second, 379: array([], dtype=float64) * second, 380: array([], dtype=float64) * second, 381: array([], dtype=float64) * second, 382: array([], dtype=float64) * second, 383: array([], dtype=float64) * second, 384: array([], dtype=float64) * second, 385: array([], dtype=float64) * second, 386: array([0.4001]) * second, 387: array([], dtype=float64) * second, 388: array([], dtype=float64) * second, 389: array([], dtype=float64) * second, 390: array([], dtype=float64) * second, 391: array([], dtype=float64) * second, 392: array([], dtype=float64) * second, 393: array([], dtype=float64) * second, 394: array([], dtype=float64) * second, 395: array([], dtype=float64) * second, 396: array([], dtype=float64) * second, 397: array([0.4004]) * second, 398: array([0.4002]) * second, 399: array([], dtype=float64) * second, 400: array([], dtype=float64) * second, 401: array([], dtype=float64) * second, 402: array([0.4004]) * second, 403: array([], dtype=float64) * second, 404: array([], dtype=float64) * second, 405: array([], dtype=float64) * second, 406: array([], dtype=float64) * second, 407: array([0.4003]) * second, 408: array([], dtype=float64) * second, 409: array([], dtype=float64) * second, 410: array([0.4002]) * second, 411: array([0.4001]) * second, 412: array([], dtype=float64) * second, 413: array([0.4002]) * second, 414: array([], dtype=float64) * second, 415: array([], dtype=float64) * second, 416: array([], dtype=float64) * second, 417: array([0.4002]) * second, 418: array([], dtype=float64) * second, 419: array([0.4]) * second, 420: array([0.4006]) * second, 421: array([], dtype=float64) * second, 422: array([], dtype=float64) * second, 423: array([], dtype=float64) * second, 424: array([], dtype=float64) * second, 425: array([0.4001]) * second, 426: array([], dtype=float64) * second, 427: array([], dtype=float64) * second, 428: array([], dtype=float64) * second, 429: array([], dtype=float64) * second, 430: array([0.4004]) * second, 431: array([], dtype=float64) * second, 432: array([], dtype=float64) * second, 433: array([], dtype=float64) * second, 434: array([], dtype=float64) * second, 435: array([0.4002]) * second, 436: array([], dtype=float64) * second, 437: array([0.4002]) * second, 438: array([], dtype=float64) * second, 439: array([0.4004]) * second, 440: array([], dtype=float64) * second, 441: array([0.4006]) * second, 442: array([0.4006]) * second, 443: array([], dtype=float64) * second, 444: array([], dtype=float64) * second, 445: array([], dtype=float64) * second, 446: array([0.4001]) * second, 447: array([], dtype=float64) * second, 448: array([], dtype=float64) * second, 449: array([], dtype=float64) * second, 450: array([], dtype=float64) * second, 451: array([0.4002]) * second, 452: array([], dtype=float64) * second, 453: array([], dtype=float64) * second, 454: array([], dtype=float64) * second, 455: array([], dtype=float64) * second, 456: array([], dtype=float64) * second, 457: array([], dtype=float64) * second, 458: array([], dtype=float64) * second, 459: array([], dtype=float64) * second, 460: array([], dtype=float64) * second, 461: array([], dtype=float64) * second, 462: array([], dtype=float64) * second, 463: array([], dtype=float64) * second, 464: array([0.4004]) * second, 465: array([], dtype=float64) * second, 466: array([], dtype=float64) * second, 467: array([], dtype=float64) * second, 468: array([], dtype=float64) * second, 469: array([], dtype=float64) * second, 470: array([], dtype=float64) * second, 471: array([0.4]) * second, 472: array([], dtype=float64) * second, 473: array([], dtype=float64) * second, 474: array([], dtype=float64) * second, 475: array([], dtype=float64) * second, 476: array([], dtype=float64) * second, 477: array([], dtype=float64) * second, 478: array([], dtype=float64) * second, 479: array([], dtype=float64) * second, 480: array([], dtype=float64) * second, 481: array([], dtype=float64) * second, 482: array([], dtype=float64) * second, 483: array([], dtype=float64) * second, 484: array([0.4003]) * second, 485: array([], dtype=float64) * second, 486: array([], dtype=float64) * second, 487: array([], dtype=float64) * second, 488: array([], dtype=float64) * second, 489: array([], dtype=float64) * second, 490: array([], dtype=float64) * second, 491: array([], dtype=float64) * second, 492: array([], dtype=float64) * second, 493: array([], dtype=float64) * second, 494: array([], dtype=float64) * second, 495: array([], dtype=float64) * second, 496: array([0.4006]) * second, 497: array([], dtype=float64) * second, 498: array([], dtype=float64) * second, 499: array([], dtype=float64) * second, 500: array([], dtype=float64) * second, 501: array([], dtype=float64) * second, 502: array([], dtype=float64) * second, 503: array([], dtype=float64) * second, 504: array([], dtype=float64) * second, 505: array([], dtype=float64) * second, 506: array([], dtype=float64) * second, 507: array([], dtype=float64) * second, 508: array([], dtype=float64) * second, 509: array([], dtype=float64) * second, 510: array([], dtype=float64) * second, 511: array([], dtype=float64) * second, 512: array([], dtype=float64) * second, 513: array([], dtype=float64) * second, 514: array([], dtype=float64) * second, 515: array([], dtype=float64) * second, 516: array([], dtype=float64) * second, 517: array([], dtype=float64) * second, 518: array([], dtype=float64) * second, 519: array([], dtype=float64) * second, 520: array([], dtype=float64) * second, 521: array([], dtype=float64) * second, 522: array([0.4003]) * second, 523: array([], dtype=float64) * second, 524: array([0.4003]) * second, 525: array([], dtype=float64) * second, 526: array([], dtype=float64) * second, 527: array([], dtype=float64) * second, 528: array([], dtype=float64) * second, 529: array([], dtype=float64) * second, 530: array([], dtype=float64) * second, 531: array([], dtype=float64) * second, 532: array([0.4]) * second, 533: array([0.4004]) * second, 534: array([], dtype=float64) * second, 535: array([], dtype=float64) * second, 536: array([], dtype=float64) * second, 537: array([], dtype=float64) * second, 538: array([], dtype=float64) * second, 539: array([], dtype=float64) * second, 540: array([], dtype=float64) * second, 541: array([], dtype=float64) * second, 542: array([0.4004]) * second, 543: array([], dtype=float64) * second, 544: array([], dtype=float64) * second, 545: array([], dtype=float64) * second, 546: array([], dtype=float64) * second, 547: array([], dtype=float64) * second, 548: array([], dtype=float64) * second, 549: array([0.4002]) * second, 550: array([], dtype=float64) * second, 551: array([], dtype=float64) * second, 552: array([], dtype=float64) * second, 553: array([], dtype=float64) * second, 554: array([], dtype=float64) * second, 555: array([], dtype=float64) * second, 556: array([], dtype=float64) * second, 557: array([0.4003]) * second, 558: array([0.4]) * second, 559: array([], dtype=float64) * second, 560: array([], dtype=float64) * second, 561: array([], dtype=float64) * second, 562: array([], dtype=float64) * second, 563: array([], dtype=float64) * second, 564: array([], dtype=float64) * second, 565: array([], dtype=float64) * second, 566: array([0.4002]) * second, 567: array([], dtype=float64) * second, 568: array([0.4004]) * second, 569: array([], dtype=float64) * second, 570: array([], dtype=float64) * second, 571: array([], dtype=float64) * second, 572: array([0.4004]) * second, 573: array([], dtype=float64) * second, 574: array([0.4002]) * second, 575: array([], dtype=float64) * second, 576: array([], dtype=float64) * second, 577: array([], dtype=float64) * second, 578: array([0.4002]) * second, 579: array([0.4]) * second, 580: array([], dtype=float64) * second, 581: array([0.4004]) * second, 582: array([], dtype=float64) * second, 583: array([], dtype=float64) * second, 584: array([], dtype=float64) * second, 585: array([0.4003]) * second, 586: array([], dtype=float64) * second, 587: array([], dtype=float64) * second, 588: array([], dtype=float64) * second, 589: array([], dtype=float64) * second, 590: array([], dtype=float64) * second, 591: array([], dtype=float64) * second, 592: array([], dtype=float64) * second, 593: array([], dtype=float64) * second, 594: array([0.4002]) * second, 595: array([], dtype=float64) * second, 596: array([], dtype=float64) * second, 597: array([], dtype=float64) * second, 598: array([], dtype=float64) * second, 599: array([0.4002]) * second, 600: array([], dtype=float64) * second, 601: array([], dtype=float64) * second, 602: array([], dtype=float64) * second, 603: array([], dtype=float64) * second, 604: array([0.4]) * second, 605: array([], dtype=float64) * second, 606: array([], dtype=float64) * second, 607: array([0.4]) * second, 608: array([0.4002]) * second, 609: array([], dtype=float64) * second, 610: array([], dtype=float64) * second, 611: array([], dtype=float64) * second, 612: array([], dtype=float64) * second, 613: array([], dtype=float64) * second, 614: array([], dtype=float64) * second, 615: array([], dtype=float64) * second, 616: array([], dtype=float64) * second, 617: array([0.4001]) * second, 618: array([], dtype=float64) * second, 619: array([], dtype=float64) * second, 620: array([], dtype=float64) * second, 621: array([], dtype=float64) * second, 622: array([], dtype=float64) * second, 623: array([], dtype=float64) * second, 624: array([0.4004]) * second, 625: array([], dtype=float64) * second, 626: array([], dtype=float64) * second, 627: array([], dtype=float64) * second, 628: array([], dtype=float64) * second, 629: array([], dtype=float64) * second, 630: array([], dtype=float64) * second, 631: array([], dtype=float64) * second, 632: array([], dtype=float64) * second, 633: array([], dtype=float64) * second, 634: array([], dtype=float64) * second, 635: array([], dtype=float64) * second, 636: array([0.4]) * second, 637: array([], dtype=float64) * second, 638: array([], dtype=float64) * second, 639: array([], dtype=float64) * second, 640: array([0.4003]) * second, 641: array([], dtype=float64) * second, 642: array([], dtype=float64) * second, 643: array([], dtype=float64) * second, 644: array([], dtype=float64) * second, 645: array([], dtype=float64) * second, 646: array([], dtype=float64) * second, 647: array([0.4002]) * second, 648: array([], dtype=float64) * second, 649: array([], dtype=float64) * second, 650: array([], dtype=float64) * second, 651: array([], dtype=float64) * second, 652: array([], dtype=float64) * second, 653: array([], dtype=float64) * second, 654: array([], dtype=float64) * second, 655: array([], dtype=float64) * second, 656: array([], dtype=float64) * second, 657: array([], dtype=float64) * second, 658: array([], dtype=float64) * second, 659: array([], dtype=float64) * second, 660: array([], dtype=float64) * second, 661: array([0.4003]) * second, 662: array([], dtype=float64) * second, 663: array([], dtype=float64) * second, 664: array([], dtype=float64) * second, 665: array([], dtype=float64) * second, 666: array([], dtype=float64) * second, 667: array([0.4006]) * second, 668: array([], dtype=float64) * second, 669: array([0.4006]) * second, 670: array([], dtype=float64) * second, 671: array([], dtype=float64) * second, 672: array([], dtype=float64) * second, 673: array([], dtype=float64) * second, 674: array([0.4001]) * second, 675: array([], dtype=float64) * second, 676: array([], dtype=float64) * second, 677: array([], dtype=float64) * second, 678: array([], dtype=float64) * second, 679: array([], dtype=float64) * second, 680: array([], dtype=float64) * second, 681: array([], dtype=float64) * second, 682: array([0.4004]) * second, 683: array([], dtype=float64) * second, 684: array([], dtype=float64) * second, 685: array([0.4]) * second, 686: array([0.4004]) * second, 687: array([], dtype=float64) * second, 688: array([0.4004]) * second, 689: array([], dtype=float64) * second, 690: array([], dtype=float64) * second, 691: array([], dtype=float64) * second, 692: array([], dtype=float64) * second, 693: array([], dtype=float64) * second, 694: array([0.4003]) * second, 695: array([], dtype=float64) * second, 696: array([], dtype=float64) * second, 697: array([0.4003]) * second, 698: array([], dtype=float64) * second, 699: array([0.4]) * second, 700: array([], dtype=float64) * second, 701: array([], dtype=float64) * second, 702: array([], dtype=float64) * second, 703: array([0.4004]) * second, 704: array([0.4002]) * second, 705: array([], dtype=float64) * second, 706: array([], dtype=float64) * second, 707: array([], dtype=float64) * second, 708: array([], dtype=float64) * second, 709: array([], dtype=float64) * second, 710: array([], dtype=float64) * second, 711: array([], dtype=float64) * second, 712: array([], dtype=float64) * second, 713: array([], dtype=float64) * second, 714: array([], dtype=float64) * second, 715: array([], dtype=float64) * second, 716: array([], dtype=float64) * second, 717: array([0.4]) * second, 718: array([], dtype=float64) * second, 719: array([], dtype=float64) * second, 720: array([], dtype=float64) * second, 721: array([0.4003]) * second, 722: array([], dtype=float64) * second, 723: array([], dtype=float64) * second, 724: array([], dtype=float64) * second, 725: array([], dtype=float64) * second, 726: array([], dtype=float64) * second, 727: array([], dtype=float64) * second, 728: array([0.4006]) * second, 729: array([], dtype=float64) * second, 730: array([], dtype=float64) * second, 731: array([], dtype=float64) * second, 732: array([], dtype=float64) * second, 733: array([], dtype=float64) * second, 734: array([], dtype=float64) * second, 735: array([], dtype=float64) * second, 736: array([], dtype=float64) * second, 737: array([], dtype=float64) * second, 738: array([], dtype=float64) * second, 739: array([], dtype=float64) * second, 740: array([], dtype=float64) * second, 741: array([], dtype=float64) * second, 742: array([0.4]) * second, 743: array([], dtype=float64) * second, 744: array([], dtype=float64) * second, 745: array([], dtype=float64) * second, 746: array([], dtype=float64) * second, 747: array([], dtype=float64) * second, 748: array([0.4006]) * second, 749: array([], dtype=float64) * second, 750: array([], dtype=float64) * second, 751: array([], dtype=float64) * second, 752: array([], dtype=float64) * second, 753: array([], dtype=float64) * second, 754: array([], dtype=float64) * second, 755: array([], dtype=float64) * second, 756: array([], dtype=float64) * second, 757: array([], dtype=float64) * second, 758: array([], dtype=float64) * second, 759: array([], dtype=float64) * second, 760: array([0.4006]) * second, 761: array([], dtype=float64) * second, 762: array([], dtype=float64) * second, 763: array([], dtype=float64) * second, 764: array([0.4006]) * second, 765: array([], dtype=float64) * second, 766: array([0.4001]) * second, 767: array([0.4006]) * second, 768: array([], dtype=float64) * second, 769: array([0.4006]) * second, 770: array([], dtype=float64) * second, 771: array([], dtype=float64) * second, 772: array([], dtype=float64) * second, 773: array([], dtype=float64) * second, 774: array([], dtype=float64) * second, 775: array([], dtype=float64) * second, 776: array([], dtype=float64) * second, 777: array([], dtype=float64) * second, 778: array([], dtype=float64) * second, 779: array([], dtype=float64) * second, 780: array([], dtype=float64) * second, 781: array([0.4006]) * second, 782: array([], dtype=float64) * second, 783: array([], dtype=float64) * second}\n",
      "(20, 784, 20)\n"
     ]
    },
    {
     "data": {
      "image/png": "[encoded data removed]",
      "text/plain": [
       "<Figure size 432x288 with 2 Axes>"
      ]
     },
     "metadata": {},
     "output_type": "display_data"
    }
   ],
   "source": [
    "trains = spikemon_V2.spike_trains()\n",
    "\n",
    "print(trains)\n",
    "\n",
    "trains_pre_array = np.array(list(trains.values()))*1000\n",
    "\n",
    "\n",
    "spikematrix = zeros((784,400)) # check you have this bit the right way around! \n",
    "\n",
    "\n",
    "\n",
    "for x in range(0,784):\n",
    "    results = list(map(int, trains_pre_array[x]))\n",
    "    results[:] = [y - 400 for y in results]  #this code \n",
    "    spikematrix[x,results] = 1\n",
    "\n",
    "\n",
    "mylist = hsplit(spikematrix,20)#horizontally splits the spike matrix into matrices 20 along!\n",
    "\n",
    "myarray = np.array(mylist)\n",
    "\n",
    "print(myarray.shape)\n",
    "\n",
    "useful_array = np.swapaxes(myarray,0,2)\n",
    "\n",
    "plt.figure()\n",
    "plt.imshow(useful_array[1])\n",
    "plt.colorbar()\n",
    "plt.grid(False)"
   ]
  },
  {
   "cell_type": "code",
   "execution_count": 64,
   "metadata": {},
   "outputs": [
    {
     "data": {
      "image/png": "[encoded data removed]",
      "text/plain": [
       "<Figure size 432x288 with 2 Axes>"
      ]
     },
     "metadata": {},
     "output_type": "display_data"
    }
   ],
   "source": [
    "plt.figure()\n",
    "plt.imshow(useful_array[9])\n",
    "plt.colorbar()\n",
    "plt.grid(False)"
   ]
  },
  {
   "cell_type": "code",
   "execution_count": 60,
   "metadata": {},
   "outputs": [],
   "source": [
    "model = keras.Sequential([\n",
    "    keras.layers.Conv1D(128,2,strides=1,padding=\"valid\",input_shape=(28,28)),\n",
    "    keras.layers.Flatten(),\n",
    "    keras.layers.Dense(30, activation=tf.nn.relu),\n",
    "    keras.layers.Dense(10, activation=tf.nn.softmax)\n",
    "])\n",
    "\n",
    "\n",
    "model.compile(optimizer=tf.train.AdamOptimizer(), \n",
    "              loss='sparse_categorical_crossentropy',\n",
    "              metrics=['accuracy'])\n",
    "\n"
   ]
  },
  {
   "cell_type": "code",
   "execution_count": 27,
   "metadata": {},
   "outputs": [
    {
     "name": "stdout",
     "output_type": "stream",
     "text": [
      "Epoch 1/5\n",
      "60000/60000 [==============================] - 9s 144us/step - loss: 11.1691 - acc: 0.3060\n",
      "Epoch 2/5\n",
      "60000/60000 [==============================] - 8s 139us/step - loss: 9.1640 - acc: 0.4310\n",
      "Epoch 3/5\n",
      "60000/60000 [==============================] - 8s 135us/step - loss: 9.0226 - acc: 0.4400\n",
      "Epoch 4/5\n",
      "60000/60000 [==============================] - 8s 140us/step - loss: 8.7259 - acc: 0.4585\n",
      "Epoch 5/5\n",
      "60000/60000 [==============================] - 8s 135us/step - loss: 7.8675 - acc: 0.5116\n"
     ]
    },
    {
     "data": {
      "text/plain": [
       "<tensorflow.python.keras.callbacks.History at 0x225887d3eb8>"
      ]
     },
     "execution_count": 27,
     "metadata": {},
     "output_type": "execute_result"
    }
   ],
   "source": [
    "model.fit(train_images, train_labels, epochs=5)\n",
    "\n"
   ]
  },
  {
   "cell_type": "code",
   "execution_count": 135,
   "metadata": {},
   "outputs": [
    {
     "ename": "TypeError",
     "evalue": "data type not understood",
     "output_type": "error",
     "traceback": [
      "\u001b[1;31m---------------------------------------------------------------------------\u001b[0m",
      "\u001b[1;31mTypeError\u001b[0m                                 Traceback (most recent call last)",
      "\u001b[1;32m<ipython-input-135-71c431a9070c>\u001b[0m in \u001b[0;36m<module>\u001b[1;34m()\u001b[0m\n\u001b[1;32m----> 1\u001b[1;33m \u001b[0mtraining_spikes\u001b[0m \u001b[1;33m=\u001b[0m \u001b[0mzeros\u001b[0m\u001b[1;33m(\u001b[0m\u001b[1;36m60000\u001b[0m\u001b[1;33m,\u001b[0m\u001b[1;36m20\u001b[0m\u001b[1;33m,\u001b[0m\u001b[1;36m784\u001b[0m\u001b[1;33m)\u001b[0m \u001b[1;31m#dimensions are number of objects, time window (ms) of exposure, and number of neurons\u001b[0m\u001b[1;33m\u001b[0m\u001b[0m\n\u001b[0m\u001b[0;32m      2\u001b[0m \u001b[1;33m\u001b[0m\u001b[0m\n\u001b[0;32m      3\u001b[0m \u001b[1;32mfor\u001b[0m \u001b[0mx\u001b[0m \u001b[1;32min\u001b[0m \u001b[0mrange\u001b[0m\u001b[1;33m(\u001b[0m\u001b[1;36m0\u001b[0m\u001b[1;33m,\u001b[0m\u001b[1;36m10\u001b[0m\u001b[1;33m)\u001b[0m\u001b[1;33m:\u001b[0m\u001b[1;33m\u001b[0m\u001b[0m\n\u001b[0;32m      4\u001b[0m     \u001b[0mtraining_spikes\u001b[0m\u001b[1;33m[\u001b[0m\u001b[0mx\u001b[0m\u001b[1;33m]\u001b[0m\u001b[1;33m\u001b[0m\u001b[0m\n",
      "\u001b[1;31mTypeError\u001b[0m: data type not understood"
     ]
    }
   ],
   "source": [
    "test_loss, test_acc = model.evaluate(test_images, test_labels)\n",
    "\n",
    "print('Test accuracy:', test_acc)\n"
   ]
  },
  {
   "cell_type": "code",
   "execution_count": null,
   "metadata": {},
   "outputs": [],
   "source": [
    "predictions = model.predict(test_images)\n",
    "\n",
    "predictions[0]"
   ]
  }
 ],
 "metadata": {
  "kernelspec": {
   "display_name": "Python 3",
   "language": "python",
   "name": "python3"
  },
  "language_info": {
   "codemirror_mode": {
    "name": "ipython",
    "version": 3
   },
   "file_extension": ".py",
   "mimetype": "text/x-python",
   "name": "python",
   "nbconvert_exporter": "python",
   "pygments_lexer": "ipython3",
   "version": "3.6.5"
  }
 },
 "nbformat": 4,
 "nbformat_minor": 2
}
