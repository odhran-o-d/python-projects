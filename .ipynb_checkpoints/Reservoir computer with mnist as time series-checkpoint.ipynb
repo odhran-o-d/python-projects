{
 "cells": [
  {
   "cell_type": "code",
   "execution_count": 1,
   "metadata": {},
   "outputs": [
    {
     "name": "stderr",
     "output_type": "stream",
     "text": [
      "C:\\Users\\odhra\\Anaconda3\\lib\\site-packages\\h5py\\__init__.py:36: FutureWarning: Conversion of the second argument of issubdtype from `float` to `np.floating` is deprecated. In future, it will be treated as `np.float64 == np.dtype(float).type`.\n",
      "  from ._conv import register_converters as _register_converters\n"
     ]
    }
   ],
   "source": [
    "import tensorflow as tf\n",
    "from tensorflow import keras\n",
    "import numpy as np\n",
    "import matplotlib.pyplot as plt\n",
    "from brian2 import *  "
   ]
  },
  {
   "cell_type": "code",
   "execution_count": 4,
   "metadata": {},
   "outputs": [
    {
     "name": "stdout",
     "output_type": "stream",
     "text": [
      "(60000, 28, 28)\n",
      "(60000, 784)\n",
      "(120000, 784)\n"
     ]
    }
   ],
   "source": [
    "mnist = keras.datasets.mnist\n",
    "\n",
    "(train_images, train_labels), (test_images, test_labels) = mnist.load_data() \n",
    "\n",
    "print(train_images.shape)\n",
    "\n",
    "train_im = train_images.reshape(60000,784)\n",
    "\n",
    "print(train_im.shape)\n",
    "\n",
    "td = zeros((120000,784))\n",
    "\n",
    "\n",
    "#maybe make this twice as big for a training and testing phase?\n",
    "\n",
    "for x in range(0,60000):\n",
    "    td[2*x]=train_im[x]\n",
    "    \n",
    "\n",
    "timed_data = td\n",
    "\n",
    "print(timed_data.shape)"
   ]
  },
  {
   "cell_type": "code",
   "execution_count": 3,
   "metadata": {},
   "outputs": [],
   "source": [
    "start_scope()\n",
    "\n",
    "taum = 10*ms\n",
    "taupre = 20*ms\n",
    "taupost = taupre\n",
    "Ee = 0*mV\n",
    "vt = -54*mV\n",
    "vr = -60*mV\n",
    "El = -74*mV\n",
    "taue = 5*ms\n",
    "F = 15*Hz\n",
    "gmax = .01\n",
    "dApre = .01\n",
    "dApost = -dApre * taupre / taupost * 1.05\n",
    "dApost *= gmax\n",
    "dApre *= gmax\n",
    "\n",
    "\n",
    "\n",
    "eqs_neurons = '''\n",
    "dv/dt = (ge * (Ee-vr) + El - v) / taum : volt\n",
    "dge/dt = -ge / taue : 1\n",
    "'''\n",
    "\n",
    "\n",
    "ta = TimedArray((timed_data)*Hz, 10*ms)\n",
    "\n",
    "#exposure time is 20 ms.\n",
    "\n",
    "\n",
    "\n",
    "Poisson_layer = PoissonGroup(784,rates = 'ta(t, i)')\n",
    "layer_V1 = NeuronGroup(784, eqs_neurons, threshold='v>vt', reset='v = vr', refractory=2*ms, method='linear')\n",
    "layer_V2 = NeuronGroup(784, eqs_neurons, threshold='v>vt', reset='v = vr', refractory=2*ms, method='linear')\n",
    "\n",
    "\n",
    "#poisson to layer 1\n",
    "P_to_V1 = Synapses(Poisson_layer, layer_V1,\n",
    "             '''w : 1\n",
    "                dApre/dt = -Apre / taupre : 1 (event-driven)\n",
    "                dApost/dt = -Apost / taupost : 1 (event-driven)''',\n",
    "             on_pre='''ge += w\n",
    "                    Apre += dApre\n",
    "                    w = clip(w + Apost, 0, gmax)''',\n",
    "             on_post='''Apost += dApost\n",
    "                     w = clip(w + Apre, 0, gmax)''',\n",
    "             )\n",
    "P_to_V1.connect()\n",
    "P_to_V1.w = 'rand() * gmax'\n",
    "\n",
    "\n",
    "\n",
    "#layer 1 to layer 2\n",
    "V1_to_V2 = Synapses(layer_V1, layer_V2,\n",
    "             '''w : 1\n",
    "                dApre/dt = -Apre / taupre : 1 (event-driven)\n",
    "                dApost/dt = -Apost / taupost : 1 (event-driven)''',\n",
    "             on_pre='''ge += w\n",
    "                    Apre += dApre\n",
    "                    w = clip(w + Apost, 0, gmax)''',\n",
    "             on_post='''Apost += dApost\n",
    "                     w = clip(w + Apre, 0, gmax)''',\n",
    "             )\n",
    "V1_to_V2.connect(condition='i!=j', p=0.5)\n",
    "V1_to_V2.w = 'rand() * gmax'\n",
    "\n",
    "\n",
    "\n",
    "#spikemon_P_naieve = SpikeMonitor(Poisson_layer)\n",
    "#spikemon_V1_naieve = SpikeMonitor(layer_V1)\n",
    "#spikemon_V2_naieve = SpikeMonitor(layer_V2)\n",
    "\n",
    "#don't monitor stuff until the second time round!\n",
    "\n",
    "\n"
   ]
  },
  {
   "cell_type": "markdown",
   "metadata": {},
   "source": [
    "# Run the network for initial exposure to all examples, then run the network for training examples. with STP turned off "
   ]
  },
  {
   "cell_type": "code",
   "execution_count": null,
   "metadata": {},
   "outputs": [],
   "source": [
    "run(xxxx*ms)\n",
    "\n",
    "\n",
    "store('exposed_net')\n",
    "\n",
    "for test_number in range(1):\n",
    "    restore('eposed_net')\n",
    "    P_to_V1.plastic = False\n",
    "    V1_to_V2.plastic = False\n",
    "    spikemon_V2 = SpikeMonitor(layer_V2)\n",
    "    run(...)\n",
    "    \n"
   ]
  },
  {
   "cell_type": "code",
   "execution_count": null,
   "metadata": {},
   "outputs": [],
   "source": [
    "trains = spikemon_V2.spike_trains()\n",
    "\n",
    "trains_pre_array = np.array(list(trains.values()))*1000\n",
    "\n",
    "spikematrix = zeros((784,800)) # check you have this bit the right way around! \n",
    "\n",
    "\n",
    "for x in range(0,784):\n",
    "    results = list(map(int, trains_pre_array[x]))\n",
    "    spikematrix[x,results] = 1\n",
    "\n",
    "\n",
    "mylist = hsplit(spikematrix,20)#horizontally splits the spike matrix into matrices 20 along!\n",
    "\n",
    "myarray = np.array(mylist)\n",
    "\n",
    "print(myarray.shape)\n",
    "\n",
    "(num_kernels, kernel_size = filter_length, padding = 'valid',\n",
    "            input_shape = input_shape, dilation_rate = 3))"
   ]
  },
  {
   "cell_type": "code",
   "execution_count": 26,
   "metadata": {},
   "outputs": [],
   "source": [
    "class_names = ['zero', 'one', 'two', 'three', 'four', \n",
    "               'five', 'six', 'seven', 'eight', 'nine']\n",
    "\n",
    "model = keras.Sequential([\n",
    "    keras.layers.Conv1D(128,2,strides=1,padding=\"valid\",input_shape=(28,28)),\n",
    "    keras.layers.Flatten(),\n",
    "    keras.layers.Dense(30, activation=tf.nn.relu),\n",
    "    keras.layers.Dense(10, activation=tf.nn.softmax)\n",
    "])\n",
    "\n",
    "\n",
    "model.compile(optimizer=tf.train.AdamOptimizer(), \n",
    "              loss='sparse_categorical_crossentropy',\n",
    "              metrics=['accuracy'])\n",
    "\n"
   ]
  },
  {
   "cell_type": "code",
   "execution_count": 27,
   "metadata": {},
   "outputs": [
    {
     "name": "stdout",
     "output_type": "stream",
     "text": [
      "Epoch 1/5\n",
      "60000/60000 [==============================] - 9s 144us/step - loss: 11.1691 - acc: 0.3060\n",
      "Epoch 2/5\n",
      "60000/60000 [==============================] - 8s 139us/step - loss: 9.1640 - acc: 0.4310\n",
      "Epoch 3/5\n",
      "60000/60000 [==============================] - 8s 135us/step - loss: 9.0226 - acc: 0.4400\n",
      "Epoch 4/5\n",
      "60000/60000 [==============================] - 8s 140us/step - loss: 8.7259 - acc: 0.4585\n",
      "Epoch 5/5\n",
      "60000/60000 [==============================] - 8s 135us/step - loss: 7.8675 - acc: 0.5116\n"
     ]
    },
    {
     "data": {
      "text/plain": [
       "<tensorflow.python.keras.callbacks.History at 0x225887d3eb8>"
      ]
     },
     "execution_count": 27,
     "metadata": {},
     "output_type": "execute_result"
    }
   ],
   "source": [
    "model.fit(train_images, train_labels, epochs=5)\n",
    "\n"
   ]
  },
  {
   "cell_type": "code",
   "execution_count": 135,
   "metadata": {},
   "outputs": [
    {
     "ename": "TypeError",
     "evalue": "data type not understood",
     "output_type": "error",
     "traceback": [
      "\u001b[1;31m---------------------------------------------------------------------------\u001b[0m",
      "\u001b[1;31mTypeError\u001b[0m                                 Traceback (most recent call last)",
      "\u001b[1;32m<ipython-input-135-71c431a9070c>\u001b[0m in \u001b[0;36m<module>\u001b[1;34m()\u001b[0m\n\u001b[1;32m----> 1\u001b[1;33m \u001b[0mtraining_spikes\u001b[0m \u001b[1;33m=\u001b[0m \u001b[0mzeros\u001b[0m\u001b[1;33m(\u001b[0m\u001b[1;36m60000\u001b[0m\u001b[1;33m,\u001b[0m\u001b[1;36m20\u001b[0m\u001b[1;33m,\u001b[0m\u001b[1;36m784\u001b[0m\u001b[1;33m)\u001b[0m \u001b[1;31m#dimensions are number of objects, time window (ms) of exposure, and number of neurons\u001b[0m\u001b[1;33m\u001b[0m\u001b[0m\n\u001b[0m\u001b[0;32m      2\u001b[0m \u001b[1;33m\u001b[0m\u001b[0m\n\u001b[0;32m      3\u001b[0m \u001b[1;32mfor\u001b[0m \u001b[0mx\u001b[0m \u001b[1;32min\u001b[0m \u001b[0mrange\u001b[0m\u001b[1;33m(\u001b[0m\u001b[1;36m0\u001b[0m\u001b[1;33m,\u001b[0m\u001b[1;36m10\u001b[0m\u001b[1;33m)\u001b[0m\u001b[1;33m:\u001b[0m\u001b[1;33m\u001b[0m\u001b[0m\n\u001b[0;32m      4\u001b[0m     \u001b[0mtraining_spikes\u001b[0m\u001b[1;33m[\u001b[0m\u001b[0mx\u001b[0m\u001b[1;33m]\u001b[0m\u001b[1;33m\u001b[0m\u001b[0m\n",
      "\u001b[1;31mTypeError\u001b[0m: data type not understood"
     ]
    }
   ],
   "source": [
    "test_loss, test_acc = model.evaluate(test_images, test_labels)\n",
    "\n",
    "print('Test accuracy:', test_acc)\n"
   ]
  },
  {
   "cell_type": "code",
   "execution_count": null,
   "metadata": {},
   "outputs": [],
   "source": [
    "predictions = model.predict(test_images)\n",
    "\n",
    "predictions[0]"
   ]
  }
 ],
 "metadata": {
  "kernelspec": {
   "display_name": "Python 3",
   "language": "python",
   "name": "python3"
  },
  "language_info": {
   "codemirror_mode": {
    "name": "ipython",
    "version": 3
   },
   "file_extension": ".py",
   "mimetype": "text/x-python",
   "name": "python",
   "nbconvert_exporter": "python",
   "pygments_lexer": "ipython3",
   "version": "3.6.5"
  }
 },
 "nbformat": 4,
 "nbformat_minor": 2
}
