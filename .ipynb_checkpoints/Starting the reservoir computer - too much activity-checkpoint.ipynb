{
 "cells": [
  {
   "cell_type": "code",
   "execution_count": 4,
   "metadata": {},
   "outputs": [],
   "source": [
    "import tensorflow as tf\n",
    "from tensorflow import keras\n",
    "import numpy as np\n",
    "import matplotlib.pyplot as plt\n",
    "from brian2 import *                     "
   ]
  },
  {
   "cell_type": "code",
   "execution_count": 5,
   "metadata": {},
   "outputs": [],
   "source": [
    "mnist = keras.datasets.mnist\n",
    "\n",
    "(train_images, train_labels), (test_images, test_labels) = mnist.load_data()    "
   ]
  },
  {
   "cell_type": "code",
   "execution_count": 22,
   "metadata": {},
   "outputs": [
    {
     "name": "stdout",
     "output_type": "stream",
     "text": [
      "(784, 60000)\n"
     ]
    }
   ],
   "source": [
    "train_im = np.swapaxes(train_images.reshape((60000,784)),0,1)\n",
    "print(train_im.shape)\n"
   ]
  },
  {
   "cell_type": "code",
   "execution_count": 49,
   "metadata": {},
   "outputs": [
    {
     "data": {
      "image/png": "[encoded data removed]",
      "text/plain": [
       "<Figure size 432x288 with 1 Axes>"
      ]
     },
     "metadata": {},
     "output_type": "display_data"
    }
   ],
   "source": [
    "start_scope()\n",
    "\n",
    "\n",
    "\n",
    "taum = 10*ms\n",
    "taupre = 20*ms\n",
    "taupost = taupre\n",
    "Ee = 0*mV\n",
    "vt = -54*mV\n",
    "vr = -60*mV\n",
    "El = -74*mV\n",
    "taue = 5*ms\n",
    "F = 15*Hz\n",
    "gmax = .01\n",
    "dApre = .01\n",
    "dApost = -dApre * taupre / taupost * 1.05\n",
    "dApost *= gmax\n",
    "dApre *= gmax\n",
    "\n",
    "eqs_neurons = '''\n",
    "dv/dt = (ge * (Ee-vr) + El - v) / taum : volt\n",
    "dge/dt = -ge / taue : 1\n",
    "'''\n",
    "\n",
    "\n",
    "\n",
    "#equations for the neuron layers\n",
    "Poisson_layer = PoissonGroup(784,(train_im[:,0])*Hz + 10*Hz)\n",
    "layer_V1 = NeuronGroup(784, eqs_neurons, threshold='v>vt', reset='v = vr', refractory=5*ms, method='linear')\n",
    "layer_V2 = NeuronGroup(784, eqs_neurons, threshold='v>vt', reset='v = vr', refractory=5*ms, method='linear')\n",
    "\n",
    "\n",
    "#poisson to layer 1\n",
    "P_to_V1 = Synapses(Poisson_layer, layer_V1,\n",
    "             '''w : 1\n",
    "                dApre/dt = -Apre / taupre : 1 (event-driven)\n",
    "                dApost/dt = -Apost / taupost : 1 (event-driven)''',\n",
    "             on_pre='''ge += w\n",
    "                    Apre += dApre\n",
    "                    w = clip(w + Apost, 0, gmax)''',\n",
    "             on_post='''Apost += dApost\n",
    "                     w = clip(w + Apre, 0, gmax)''',\n",
    "             )\n",
    "P_to_V1.connect()\n",
    "P_to_V1.w = 'rand() * gmax'\n",
    "\n",
    "\n",
    "\n",
    "\n",
    "#layer 1 to layer 2\n",
    "V1_to_V2 = Synapses(layer_V1, layer_V2,\n",
    "             '''w : 1\n",
    "                dApre/dt = -Apre / taupre : 1 (event-driven)\n",
    "                dApost/dt = -Apost / taupost : 1 (event-driven)''',\n",
    "             on_pre='''ge += w\n",
    "                    Apre += dApre\n",
    "                    w = clip(w + Apost, 0, gmax)''',\n",
    "             on_post='''Apost += dApost\n",
    "                     w = clip(w + Apre, 0, gmax)''',\n",
    "             )\n",
    "V1_to_V2.connect(condition='i!=j', p=0.5)\n",
    "V1_to_V2.w = 'gmax'\n",
    "\n",
    "\n",
    "\n",
    "spikemon_P = SpikeMonitor(Poisson_layer)\n",
    "spikemon_V1 = SpikeMonitor(layer_V1)\n",
    "spikemon_V2 = SpikeMonitor(layer_V2)\n",
    "\n",
    "\n",
    "run(50*ms)\n",
    "\n",
    "plt.plot(spikemon_V1.t/ms, spikemon_V1.i,'.k')\n",
    "xlabel('Time (ms)')\n",
    "ylabel('V2 Neuron index');"
   ]
  },
  {
   "cell_type": "code",
   "execution_count": null,
   "metadata": {},
   "outputs": [],
   "source": [
    "plt.figure(1)\n",
    "\n",
    "plt.subplot(611)\n",
    "plt.plot(spikemon_P.t/ms, spikemon_P.i,'.k')\n",
    "xlabel('Time (ms)')\n",
    "ylabel('Poisson Neuron index');\n",
    "\n",
    "plt.subplot(612)\n",
    "plt.plot(spikemon_V1.t/ms, spikemon_V1.i,'.k')\n",
    "xlabel('Time (ms)')\n",
    "ylabel('V1 Neuron index');\n",
    "\n",
    "plt.subplot(613)\n",
    "plt.plot(spikemon_V2.t/ms, spikemon_V2.i,'.k')\n",
    "xlabel('Time (ms)')\n",
    "ylabel('V2 Neuron index');\n",
    "\n",
    "plt.subplot(614)\n",
    "plt.plot(V1_to_V2.w / gmax, '.k')\n",
    "ylabel('Weight / gmax')\n",
    "xlabel('Synapse index')\n",
    "\n",
    "plt.subplot(615)\n",
    "plt.hist(V1_to_V2.w / gmax, 20)\n",
    "xlabel('Weight / gmax')\n",
    "\n",
    "plt.subplot(616)\n",
    "plt.plot(spikemon_V2.t/second, spikemon_V2.w.T/gmax)\n",
    "xlabel('Time (s)')\n",
    "ylabel('Weight / gmax')\n",
    "\n",
    "plt.show()"
   ]
  },
  {
   "cell_type": "code",
   "execution_count": 28,
   "metadata": {},
   "outputs": [
    {
     "data": {
      "image/png": "[encoded data removed]",
      "text/plain": [
       "<Figure size 432x288 with 1 Axes>"
      ]
     },
     "metadata": {},
     "output_type": "display_data"
    }
   ],
   "source": [
    "spikemon_V1 = SpikeMonitor(layer_V1)\n",
    "\n",
    "run(50*ms)\n",
    "\n",
    "plot(spikemon_V1.t/ms, spikemon_V1.i,'.k')\n",
    "xlabel('Time (ms)')\n",
    "ylabel('Neuron index');"
   ]
  },
  {
   "cell_type": "code",
   "execution_count": 16,
   "metadata": {},
   "outputs": [
    {
     "name": "stdout",
     "output_type": "stream",
     "text": [
      "[ 0.   0.   0.  ... 49.9 49.9 49.9] ms\n"
     ]
    }
   ],
   "source": [
    "\n",
    "V1_to_V1 = Synapses(layer_V1, layer_V1, delta_rule, on_pre=pre_delta, on_post=post_delta, method='linear') \n",
    "V1_to_V1.connect(condition='i!=j', p=1)\n",
    "\n",
    "\n",
    "\n",
    "layer_V2 = NeuronGroup(784, eqs_neurons, threshold='v>vt', reset='v = vr', refractory=5*ms, method='linear')\n",
    "\n",
    "V1_to_V2 = Synapses(layer_V1, layer_V2, delta_rule, on_pre=pre_delta, on_post=post_delta, method='linear') \n",
    "V1_to_V2.connect(condition='i!=j', p=1)\n",
    "\n",
    "V2_to_V1 = Synapses(layer_V2, layer_V1, delta_rule, on_pre=pre_delta, on_post=post_delta, method='linear') \n",
    "V2_to_V1.connect(condition='i!=j', p=1)\n",
    "\n",
    "V2_to_V2 = Synapses(layer_V2, layer_V2, delta_rule, on_pre=pre_delta, on_post=post_delta, method='linear') \n",
    "V2_to_V2.connect(condition='i!=j', p=1)"
   ]
  },
  {
   "cell_type": "code",
   "execution_count": null,
   "metadata": {},
   "outputs": [],
   "source": [
    "x = tf.placeholder(tf.float32, [1,None, None]) # [batch_size, time_sequence_length, dimensionality of input at time step (i.e. number of neurons in your case) ]\n",
    "filtera = tf.Variable(tf.zeros([3, 16, 100])) #Initialise a variable using tf.Variable (initial value is passed as a parameter) \n",
    "convLayer = tf.nn.conv1d(x,filtera,stride = 1, padding='VALID') #Conv1D layer, stride = 1\n",
    "#Note: filter dims are [width of filter, number of input channels, number of output channels]\n",
    "#output channels can represent the number of classes in your task, input channels are the dimensionality of the input at every time step\n",
    "# so must match this \n",
    "sess = tf.Session() #Session variable to run stuff\n",
    "#sess.run(convLayer)\n",
    "#Typical loss function setup (can be found online)\n",
    "correct = tf.zeros([1,98,100])\n",
    "lossFunction = tf.losses.mean_squared_error(correct,convLayer)\n",
    "lossValue = tf.reduce_mean(lossFunction)\n",
    "optimizer =  tf.train.AdamOptimizer().minimize(lossValue)\n",
    "#sess.run(optimizer, feed_dict={x:ralph})"
   ]
  },
  {
   "cell_type": "code",
   "execution_count": null,
   "metadata": {},
   "outputs": [],
   "source": []
  }
 ],
 "metadata": {
  "kernelspec": {
   "display_name": "Python 3",
   "language": "python",
   "name": "python3"
  },
  "language_info": {
   "codemirror_mode": {
    "name": "ipython",
    "version": 3
   },
   "file_extension": ".py",
   "mimetype": "text/x-python",
   "name": "python",
   "nbconvert_exporter": "python",
   "pygments_lexer": "ipython3",
   "version": "3.6.5"
  }
 },
 "nbformat": 4,
 "nbformat_minor": 2
}
